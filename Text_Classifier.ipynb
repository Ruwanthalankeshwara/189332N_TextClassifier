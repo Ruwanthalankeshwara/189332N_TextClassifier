{
 "cells": [
  {
   "cell_type": "code",
   "execution_count": 2,
   "metadata": {},
   "outputs": [
    {
     "name": "stdout",
     "output_type": "stream",
     "text": [
      "preds     0    1\n",
      "actual          \n",
      "0       294  188\n",
      "1        73  404\n",
      "             precision    recall  f1-score   support\n",
      "\n",
      "          0       0.80      0.61      0.69       482\n",
      "          1       0.68      0.85      0.76       477\n",
      "\n",
      "avg / total       0.74      0.73      0.72       959\n",
      "\n",
      "NB, Count Vectors:  0.7278415015641293\n",
      "preds     0    1\n",
      "actual          \n",
      "0       399   83\n",
      "1        42  435\n",
      "             precision    recall  f1-score   support\n",
      "\n",
      "          0       0.90      0.83      0.86       482\n",
      "          1       0.84      0.91      0.87       477\n",
      "\n",
      "avg / total       0.87      0.87      0.87       959\n",
      "\n",
      "NB, Count Vectors:  0.8696558915537018\n",
      "preds     0    1\n",
      "actual          \n",
      "0       392   90\n",
      "1        78  399\n",
      "             precision    recall  f1-score   support\n",
      "\n",
      "          0       0.83      0.81      0.82       482\n",
      "          1       0.82      0.84      0.83       477\n",
      "\n",
      "avg / total       0.83      0.82      0.82       959\n",
      "\n",
      "NB, Count Vectors:  0.8248175182481752\n"
     ]
    },
    {
     "name": "stderr",
     "output_type": "stream",
     "text": [
      "C:\\Program Files\\Anaconda3\\lib\\site-packages\\sklearn\\preprocessing\\label.py:171: DeprecationWarning: The truth value of an empty array is ambiguous. Returning False, but in future this will result in an error. Use `array.size > 0` to check that an array is not empty.\n",
      "  if diff:\n"
     ]
    },
    {
     "name": "stdout",
     "output_type": "stream",
     "text": [
      "preds     0    1\n",
      "actual          \n",
      "0       381  101\n",
      "1        26  451\n",
      "             precision    recall  f1-score   support\n",
      "\n",
      "          0       0.94      0.79      0.86       482\n",
      "          1       0.82      0.95      0.88       477\n",
      "\n",
      "avg / total       0.88      0.87      0.87       959\n",
      "\n",
      "NB, Count Vectors:  0.867570385818561\n"
     ]
    },
    {
     "name": "stderr",
     "output_type": "stream",
     "text": [
      "C:\\Program Files\\Anaconda3\\lib\\site-packages\\sklearn\\preprocessing\\label.py:171: DeprecationWarning: The truth value of an empty array is ambiguous. Returning False, but in future this will result in an error. Use `array.size > 0` to check that an array is not empty.\n",
      "  if diff:\n"
     ]
    }
   ],
   "source": [
    "from sklearn import model_selection, preprocessing, linear_model, naive_bayes, metrics\n",
    "from sklearn.feature_extraction.text import TfidfVectorizer, CountVectorizer\n",
    "from sklearn import decomposition, ensemble\n",
    "\n",
    "import pandas, xgboost, numpy, textblob, string, numpy\n",
    "from keras.preprocessing import text, sequence\n",
    "from keras import layers, models, optimizers\n",
    "\n",
    "data = pandas.read_csv(r\"D:\\MSc\\ML\\train.csv\")\n",
    "test = pandas.read_csv(r\"D:\\MSc\\ML\\test.csv\",encoding = 'unicode_escape')\n",
    "\n",
    "train_x, valid_x, train_y, valid_y = model_selection.train_test_split(data['Tweet text'], data['Label'])\n",
    "test_x = test['Text']\n",
    "\n",
    "count_vect = CountVectorizer(analyzer='word', token_pattern=r'\\w{1,}')\n",
    "count_vect.fit(data['Tweet text'])\n",
    "\n",
    "xtrain_count =  count_vect.transform(train_x)\n",
    "xvalid_count =  count_vect.transform(valid_x)\n",
    "xtest_count  = count_vect.transform(test_x)\n",
    "\n",
    "def train_model(classifier, feature_vector_train, label, feature_vector_valid, is_neural_net=False):\n",
    "    # fit the training dataset on the classifier\n",
    "    classifier.fit(feature_vector_train, label)\n",
    "    \n",
    "    # predict the labels on validation dataset\n",
    "    predictions = classifier.predict(feature_vector_valid)\n",
    "    print (pandas.crosstab(index=valid_y, columns=predictions, rownames=['actual'], colnames=['preds']))\n",
    "    print (metrics.classification_report(numpy.array(valid_y),predictions))\n",
    "    if is_neural_net:\n",
    "        predictions = predictions.argmax(axis=-1)\n",
    "    \n",
    "    return metrics.accuracy_score(predictions, valid_y)\n",
    "\n",
    "accuracy = train_model(naive_bayes.MultinomialNB(), xtrain_count, train_y, xvalid_count)\n",
    "print(\"NB, Count Vectors: \", accuracy)\n",
    "\n",
    "accuracy = train_model(linear_model.LogisticRegression(), xtrain_count, train_y, xvalid_count)\n",
    "print(\"NB, Count Vectors: \", accuracy)\n",
    "\n",
    "accuracy = train_model(ensemble.RandomForestClassifier(), xtrain_count, train_y, xvalid_count)\n",
    "print(\"NB, Count Vectors: \", accuracy)\n",
    "\n",
    "accuracy = train_model(xgboost.XGBClassifier(), xtrain_count.tocsc(), train_y, xvalid_count.tocsc())\n",
    "print(\"NB, Count Vectors: \", accuracy)\n",
    "\n",
    "def prediction(classifier, feature_vector_train, label, feature_vector_test):\n",
    "    # fit the training dataset on the classifier\n",
    "    classifier.fit(feature_vector_train, label)\n",
    "    predictions = pandas.DataFrame(classifier.predict(feature_vector_test))\n",
    "  \n",
    "    predictions.to_csv(\"D:\\MSc\\ML\\prediction.csv\")\n",
    "    return predictions\n",
    "\n",
    "pred = prediction(xgboost.XGBClassifier(), xtrain_count.tocsc(), train_y,xtest_count.tocsc())"
   ]
  },
  {
   "cell_type": "code",
   "execution_count": null,
   "metadata": {
    "collapsed": true
   },
   "outputs": [],
   "source": []
  }
 ],
 "metadata": {
  "kernelspec": {
   "display_name": "Python 3",
   "language": "python",
   "name": "python3"
  },
  "language_info": {
   "codemirror_mode": {
    "name": "ipython",
    "version": 3
   },
   "file_extension": ".py",
   "mimetype": "text/x-python",
   "name": "python",
   "nbconvert_exporter": "python",
   "pygments_lexer": "ipython3",
   "version": "3.6.1"
  }
 },
 "nbformat": 4,
 "nbformat_minor": 2
}
